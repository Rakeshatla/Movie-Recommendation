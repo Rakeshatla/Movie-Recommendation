{
  "nbformat": 4,
  "nbformat_minor": 0,
  "metadata": {
    "colab": {
      "provenance": [],
      "authorship_tag": "ABX9TyM99LjOjY75wu5POeb+xito",
      "include_colab_link": true
    },
    "kernelspec": {
      "name": "python3",
      "display_name": "Python 3"
    },
    "language_info": {
      "name": "python"
    }
  },
  "cells": [
    {
      "cell_type": "markdown",
      "metadata": {
        "id": "view-in-github",
        "colab_type": "text"
      },
      "source": [
        "<a href=\"https://colab.research.google.com/github/Rakeshatla/Movie-Recommendation/blob/main/Movie_Recommendation_System.ipynb\" target=\"_parent\"><img src=\"https://colab.research.google.com/assets/colab-badge.svg\" alt=\"Open In Colab\"/></a>"
      ]
    },
    {
      "cell_type": "markdown",
      "source": [
        "# using cosine_similarity"
      ],
      "metadata": {
        "id": "_hHmIcNaQp_B"
      }
    },
    {
      "cell_type": "code",
      "source": [
        "import numpy as np\n",
        "import pandas as pd\n",
        "import zipfile\n",
        "from sklearn.feature_extraction.text import CountVectorizer\n",
        "from sklearn.metrics.pairwise import cosine_similarity\n",
        "\n",
        "# Load the data\n",
        "with zipfile.ZipFile('/content/tmdb_5000_credits.csv.zip') as z:\n",
        "    with z.open('tmdb_5000_credits.csv') as f:\n",
        "        credits = pd.read_csv(f)\n",
        "\n",
        "with zipfile.ZipFile('/content/tmdb_5000_movies.csv.zip') as z:\n",
        "    with z.open('tmdb_5000_movies.csv') as f:\n",
        "        movies = pd.read_csv(f)\n",
        "\n",
        "# Data preprocessing\n",
        "movies = movies.merge(credits, on='title')\n",
        "movies = movies[['movie_id', 'title', 'overview', 'genres', 'keywords', 'cast', 'crew']]\n",
        "\n",
        "import ast\n",
        "def convert(text):\n",
        "    L = []\n",
        "    for i in ast.literal_eval(text):\n",
        "        L.append(i['name'])\n",
        "    return L\n",
        "\n",
        "movies.dropna(inplace=True)\n",
        "movies['genres'] = movies['genres'].apply(convert)\n",
        "movies['keywords'] = movies['keywords'].apply(convert)\n",
        "\n",
        "# Process cast and crew data\n",
        "movies['cast'] = movies['cast'].apply(convert)\n",
        "movies['cast'] = movies['cast'].apply(lambda x:x[0:3])\n",
        "\n",
        "def fetch_director(text):\n",
        "    L = []\n",
        "    for i in ast.literal_eval(text):\n",
        "        if i['job'] == 'Director':\n",
        "            L.append(i['name'])\n",
        "    return L\n",
        "movies['crew'] = movies['crew'].apply(fetch_director)\n",
        "\n",
        "# Collapse and clean data\n",
        "def collapse(L):\n",
        "    L1 = []\n",
        "    for i in L:\n",
        "        L1.append(i.replace(\" \",\"\"))\n",
        "    return L1\n",
        "\n",
        "movies['cast'] = movies['cast'].apply(collapse)\n",
        "movies['crew'] = movies['crew'].apply(collapse)\n",
        "movies['genres'] = movies['genres'].apply(collapse)\n",
        "movies['keywords'] = movies['keywords'].apply(collapse)\n",
        "movies['overview'] = movies['overview'].apply(lambda x:x.split())\n",
        "movies['tags'] = movies['overview'] + movies['genres'] + movies['keywords'] + movies['cast'] + movies['crew']\n",
        "\n",
        "# Drop unnecessary columns\n",
        "new = movies.drop(columns=['overview','genres','keywords','cast','crew'])\n",
        "new['tags'] = new['tags'].apply(lambda x: \" \".join(x))\n",
        "\n",
        "# Apply CountVectorizer to create the feature vector\n",
        "cv = CountVectorizer(max_features=5000, stop_words='english')\n",
        "vector = cv.fit_transform(new['tags']).toarray()\n",
        "\n",
        "# Calculate similarity matrix (Cosine Similarity in this case)\n",
        "similarity = cosine_similarity(vector)\n",
        "\n",
        "# Function to recommend movies\n",
        "def recommend(movie, k=5):\n",
        "    index = new[new['title'] == movie].index[0]\n",
        "    distances = sorted(list(enumerate(similarity[index])), reverse=True, key=lambda x: x[1])\n",
        "    recommended_movies = [new.iloc[i[0]].title for i in distances[1:k+1]]\n",
        "    return recommended_movies\n",
        "\n",
        "# Ground truth list of similar movies for \"Gandhi\"\n",
        "ground_truth = ['The Wind That Shakes the Barley', 'A Passage to India', 'Gandhi', 'Guiana 1838', 'Ramanujan']\n",
        "\n",
        "# Precision at K function\n",
        "def precision_at_k(recommended_movies, ground_truth, k=5):\n",
        "    recommended = recommended_movies[:k]\n",
        "    relevant_recommendations = [movie for movie in recommended if movie in ground_truth]\n",
        "    precision = len(relevant_recommendations) / k\n",
        "    return precision\n",
        "\n",
        "# Get recommended movies for \"Gandhi\"\n",
        "recommended_movies = recommend('Gandhi', k=5)\n",
        "print(recommended_movies)\n",
        "\n",
        "# Calculate Precision at K\n",
        "precision = precision_at_k(recommended_movies, ground_truth, k=5)\n",
        "print(f\"Precision at 5: {precision}\")\n"
      ],
      "metadata": {
        "colab": {
          "base_uri": "https://localhost:8080/"
        },
        "id": "N_xclxUcPeaM",
        "outputId": "669cf061-27cc-4262-a56f-4a8f06f18fb9"
      },
      "execution_count": null,
      "outputs": [
        {
          "output_type": "stream",
          "name": "stdout",
          "text": [
            "['Gandhi, My Father', 'The Wind That Shakes the Barley', 'A Passage to India', 'Guiana 1838', 'Ramanujan']\n",
            "Precision at 5: 0.8\n"
          ]
        }
      ]
    },
    {
      "cell_type": "code",
      "source": [],
      "metadata": {
        "id": "DFdt5eqxrNlH"
      },
      "execution_count": null,
      "outputs": []
    },
    {
      "cell_type": "markdown",
      "source": [
        "#Using Manhattan Distance"
      ],
      "metadata": {
        "id": "PoQbE82oKNEX"
      }
    },
    {
      "cell_type": "code",
      "source": [
        "import numpy as np\n",
        "import pandas as pd\n",
        "import zipfile\n",
        "from sklearn.feature_extraction.text import CountVectorizer\n",
        "from sklearn.metrics import pairwise_distances\n",
        "import ast\n",
        "\n",
        "# Load the datasets\n",
        "with zipfile.ZipFile('/content/tmdb_5000_credits.csv.zip') as z:\n",
        "    with z.open('tmdb_5000_credits.csv') as f:\n",
        "        credits = pd.read_csv(f)\n",
        "\n",
        "with zipfile.ZipFile('/content/tmdb_5000_movies.csv.zip') as z:\n",
        "    with z.open('tmdb_5000_movies.csv') as f:\n",
        "        movies = pd.read_csv(f)\n",
        "\n",
        "# Merge datasets and keep necessary columns\n",
        "movies = movies.merge(credits, on='title')\n",
        "movies = movies[['movie_id', 'title', 'overview', 'genres', 'keywords', 'cast', 'crew']]\n",
        "\n",
        "# Helper functions for data transformation\n",
        "def convert(text):\n",
        "    L = []\n",
        "    for i in ast.literal_eval(text):\n",
        "        L.append(i['name'])\n",
        "    return L\n",
        "\n",
        "def fetch_director(text):\n",
        "    for i in ast.literal_eval(text):\n",
        "        if i['job'] == 'Director':\n",
        "            return [i['name']]\n",
        "    return []\n",
        "\n",
        "def collapse(L):\n",
        "    return [i.replace(\" \", \"\") for i in L]\n",
        "\n",
        "# Process the data\n",
        "movies.dropna(inplace=True)\n",
        "movies['genres'] = movies['genres'].apply(convert)\n",
        "movies['keywords'] = movies['keywords'].apply(convert)\n",
        "movies['cast'] = movies['cast'].apply(lambda x: convert(x)[:3])  # Limit to top 3 cast members\n",
        "movies['crew'] = movies['crew'].apply(fetch_director)\n",
        "\n",
        "# Remove spaces in tag lists and create a 'tags' column\n",
        "movies['genres'] = movies['genres'].apply(collapse)\n",
        "movies['keywords'] = movies['keywords'].apply(collapse)\n",
        "movies['cast'] = movies['cast'].apply(collapse)\n",
        "movies['crew'] = movies['crew'].apply(collapse)\n",
        "movies['overview'] = movies['overview'].apply(lambda x: x.split() if isinstance(x, str) else [])\n",
        "movies['tags'] = movies['overview'] + movies['genres'] + movies['keywords'] + movies['cast'] + movies['crew']\n",
        "\n",
        "# Create a new DataFrame with the 'tags' column\n",
        "new = movies[['movie_id', 'title', 'tags']]\n",
        "new.loc[:, 'tags'] = new['tags'].apply(lambda x: \" \".join(x))  # Use .loc to avoid SettingWithCopyWarning\n",
        "\n",
        "# Vectorize the 'tags' column and convert the array to binary\n",
        "cv = CountVectorizer(max_features=1000, stop_words='english')\n",
        "vector = cv.fit_transform(new['tags']).toarray()\n",
        "\n",
        "# Calculate Manhattan distance\n",
        "manhattan_distance = pairwise_distances(vector, metric=\"manhattan\")\n",
        "\n",
        "# Convert Manhattan distance to a similarity measure (inverse)\n",
        "manhattan_similarity = 1 / (1 + manhattan_distance)\n",
        "\n",
        "# Recommendation function using Manhattan similarity\n",
        "def recommend(movie):\n",
        "    if movie not in new['title'].values:\n",
        "        print(f\"Movie '{movie}' not found.\")\n",
        "        return\n",
        "    index = new[new['title'] == movie].index[0]\n",
        "    distances = sorted(list(enumerate(manhattan_similarity[index])), reverse=True, key=lambda x: x[1])\n",
        "    recommended_movies = [new.iloc[i[0]].title for i in distances[1:6]]  # Skip the first item (itself)\n",
        "    return recommended_movies\n",
        "\n",
        "# Precision at K function\n",
        "def precision_at_k(recommended_movies, ground_truth, k=5):\n",
        "    recommended = recommended_movies[:k]\n",
        "    relevant_recommendations = [movie for movie in recommended if movie in ground_truth]\n",
        "    precision = len(relevant_recommendations) / k\n",
        "    return precision\n",
        "\n",
        "# Example: Ground truth for \"Gandhi\" (adjust as needed)\n",
        "ground_truth_gandhi = ['The Wind That Shakes the Barley', 'A Passage to India', 'Gandhi', 'Guiana 1838', 'Ramanujan']\n",
        "\n",
        "# Get recommended movies for \"Gandhi\"\n",
        "recommended_movies = recommend('Gandhi')\n",
        "print(recommended_movies)\n",
        "\n",
        "# Calculate Precision at K (assuming k=5)\n",
        "precision = precision_at_k(recommended_movies, ground_truth_gandhi, k=5)\n",
        "print(f\"Precision at 5 for 'Gandhi': {precision}\")\n"
      ],
      "metadata": {
        "colab": {
          "base_uri": "https://localhost:8080/"
        },
        "id": "RdWuI4iKNuYp",
        "outputId": "5caf9b32-70f2-4d76-9122-08a9e69cdb61"
      },
      "execution_count": null,
      "outputs": [
        {
          "output_type": "stream",
          "name": "stdout",
          "text": [
            "['Mr. Turner', 'Chariots of Fire', 'Ben-Hur', 'Seabiscuit', 'Ramanujan']\n",
            "Precision at 5 for 'Gandhi': 0.2\n"
          ]
        }
      ]
    }
  ]
}